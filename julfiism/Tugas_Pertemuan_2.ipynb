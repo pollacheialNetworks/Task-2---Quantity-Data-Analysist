{
  "cells": [
    {
      "cell_type": "markdown",
      "metadata": {
        "id": "IE8a6SXLbYzl"
      },
      "source": [
        "# Statistika Deskriptif"
      ]
    },
    {
      "cell_type": "code",
      "execution_count": 56,
      "metadata": {
        "id": "u6bx8Llrbhs8"
      },
      "outputs": [],
      "source": [
        "import statistics\n",
        "import numpy as np\n",
        "import scipy.stats\n",
        "\n",
        "#Berikut adalah data dari breast cancer dataset, area dan status mematikan atau tidaknya\n",
        "\n",
        "area = [1001. , 1326. , 1203. ,  386.1, 1297. ,  477.1, 1040. ,  577.9, 519.8,  475.9,  797.8,  781. , 1123. ,  782.7,  578.3,  658.8, 684.5,  798.8, 1260. ,  566.3,  520. ,  273.9,  704.4, 1404. ,\n",
        "        904.6,  912.7,  644.8, 1094. ,  732.4,  955.1, 1088. ,  440.6, 899.3, 1162. ,  807.2,  869.5,  633. ,  523.8,  698.8,  559.2, 563. ,  371.1, 1104. ,  545.2,  531.5, 1076. ,  201.9,  534.6,\n",
        "        449.3,  561. ,  427.9,  571.8,  437.6, 1033. ,  712.8,  409. , 1152. ,  656.9,  527.2,  224.5,  311.9,  221.8,  645.7,  260.9, 499. ,  668.3,  269.4,  394.1,  250.5,  502.5, 1130. ,  244. ,\n",
        "        929.4,  584.1,  470.9,  817.7,  559.2, 1006. , 1245. ,  506.3, 401.5,  520. , 1878. , 1132. ,  443.3, 1075. ,  648.2, 1076. , 466.1,  651.9,  662.7,  728.2,  551.7,  555.1,  705.6, 1264. ,\n",
        "        451.1,  294.5,  412.6,  642.5,  582.7,  143.5,  458.7,  298.3, 336.1,  530.2,  412.5,  466.7, 1509. ,  396.5,  290.2,  480.4, 629.9,  334.2,  230.9,  438.6,  245.2,  682.5,  782.6,  982. ,\n",
        "        403.3, 1077. , 1761. ,  640.7,  553.5,  588.7,  572.6, 1138. , 674.5, 1192. ,  455.8,  748.9,  809.8,  761.7, 1075. ,  506.3, 423.6,  399.8,  678.1,  384.8,  288.5,  813. ,  398. ,  512.2,\n",
        "        355.3,  432.8,  432. ,  689.5,  640.1,  585. ,  519.4,  203.9, 300.2,  381.9,  538.9,  460.3,  963.7,  880.2,  448.6,  366.8, 419.8, 1157. , 1214. ,  464.5, 1686. ,  690.2,  357.6,  886.3,\n",
        "        984.6,  685.9,  464.1,  565.4,  736.9,  372.7,  349.6,  227.2, 302.4,  832.9,  526.4,  508.8, 2250. , 1311. ,  766.6,  402. , 710.6,  317.5, 1041. ,  420.3,  428.9,  463.7,  609.9,  507.4,\n",
        "        288.1,  477.4,  671.4,  516.4,  588.9, 1024. , 1148. ,  642.7, 461. ,  951.6, 1685. ,  597.8,  481.9,  716.6,  295.4,  904.3, 529.4,  725.5, 1290. ,  428. , 2499. ,  948. ,  610.7,  578.9,\n",
        "        432.2,  321.2, 1230. , 1223. ,  568.9,  561.3,  313.1,  761.3, 546.4,  641.2,  329.6,  684.5,  496.4,  503.2,  895. ,  395.7, 386.8, 1319. ,  279.6,  603.4, 1670. , 1306. ,  623.9,  920.6,\n",
        "        575.3,  476.5,  389.4,  590. , 1155. ,  337.7,  541.6,  512.2, 347. ,  406.3, 1364. ,  407.4, 1206. ,  928.2, 1169. ,  602.4, 1207. ,  713.3,  773.5,  744.9, 1288. ,  933.1,  947.8,  758.6,\n",
        "        928.3, 1419. ,  346.4,  561. ,  512.2,  344.9,  632.6,  388. , 1491. ,  289.9,  998.9,  435.6,  396.6, 1102. ,  572.3,  587.4, 1138. ,  427.3, 1145. ,  805.1,  516.6,  489. ,  441. ,  515.9,\n",
        "        394.1,  396. ,  651. ,  687.3,  513.7,  432.7,  492.1,  582.7, 363.7,  431.1,  633.1,  334.2, 1217. ,  471.3, 1247. ,  334.3, 403.1,  417.2,  537.3,  246.3,  566.2,  530.6,  418.7,  664.9,\n",
        "        504.1,  409.1,  221.2,  481.6,  461.4, 1027. ,  244.5,  477.3, 324.2, 1274. ,  504.8, 1264. ,  457.9,  489.9,  616.5,  446. , 813.7,  826.8,  793.2,  514. ,  387.3,  390. ,  464.4,  918.6,\n",
        "        514.3, 1092. ,  310.8, 1747. ,  641.2,  280.5,  373.9, 1194. , 420.3,  321.6,  445.3,  668.7,  402.7,  426.7,  421. ,  758.6, 2010. ,  716.6,  384.6,  485.8,  512. ,  593.7,  241. ,  278.6,\n",
        "        491.9,  546.1,  496.6,  838.1,  552.4, 1293. , 1234. ,  458.4, 1546. , 1482. ,  840.4,  711.8, 1386. , 1335. ,  579.1,  788.5, 338.3,  562.1,  580.6,  361.6,  386.3,  372.7,  447.8,  462.9,\n",
        "        541.8,  664.7,  462. ,  596.6,  392. , 1174. ,  321.6,  234.3, 744.7, 1407. ,  446.2,  609.1,  558.1,  508.3,  378.2,  431.9, 994. ,  442.7,  525.2,  507.6,  469.1,  370. ,  800. ,  514.5,\n",
        "        991.7,  466.1,  399.8,  373.2,  268.8,  693.7,  719.5,  433.8, 271.2,  803.1,  495. ,  380.3,  409.7,  656.1,  408.2,  575.3, 289.7,  307.3,  333.6,  359.9,  381.1,  501.3,  685. ,  467.8,\n",
        "       1250. , 1110. ,  673.7,  599.5,  509.2,  611.2,  592.6,  606.5, 371.5,  928.8,  585.9,  340.9,  990. ,  441.3,  981.6,  674.8, 659.7, 1384. ,  432. , 1191. ,  442.5,  644.2,  492.9,  557.2,\n",
        "        415.1,  537.9,  520.2,  290.9,  930.9, 2501. ,  646.1,  412.7, 537.3,  542.9,  536.9,  286.3,  980.5,  408.8,  289.1,  449.9, 686.9,  465.4,  358.9,  506.9,  618.4,  599.4,  404.9,  815.8,\n",
        "        455.3,  602.9,  546.3,  571.1,  747.2,  476.7,  666. , 1167. , 420.5,  857.6,  466.5,  992.1, 1007. ,  477.3,  538.7,  680.9, 485.6,  480.1, 1068. , 1320. ,  689.4,  595.9,  476.3, 1682. ,\n",
        "        248.7,  272.5,  453.1,  366.5,  819.8,  731.3,  426. ,  680.7, 556.7,  658.8,  701.9,  391.2, 1052. , 1214. ,  493.1,  493.8, 257.8, 1841. ,  388.1,  571. ,  293.2,  221.3,  551.1,  468.5,\n",
        "        594.2,  445.2,  422.9,  416.2,  575.5, 1299. ,  365.6, 1308. , 629.8,  406.4,  178.8,  170.4,  402.9,  656.4,  668.6,  538.4, 584.8,  573.2,  324.9,  320.8,  285.7,  361.6,  360.5,  378.4,\n",
        "        507.9,  264. ,  514.3,  321.4,  311.7,  271.3,  657.1,  403.5, 600.4,  386. ,  716.9, 1347. , 1479. , 1261. ,  858.1, 1265. , 181. ]\n",
        "\n",
        "malignant = [0., 0., 0., 0., 0., 0., 0., 0., 0., 0., 0., 0., 0., 0., 0., 0., 0.,\n",
        "       0., 0., 1., 1., 1., 0., 0., 0., 0., 0., 0., 0., 0., 0., 0., 0., 0.,\n",
        "       0., 0., 0., 1., 0., 0., 0., 0., 0., 0., 0., 0., 1., 0., 1., 1., 1.,\n",
        "       1., 1., 0., 0., 1., 0., 0., 1., 1., 1., 1., 0., 1., 0., 0., 1., 1.,\n",
        "       1., 1., 0., 1., 0., 0., 1., 0., 1., 0., 0., 1., 1., 1., 0., 0., 1.,\n",
        "       0., 0., 0., 1., 1., 1., 0., 1., 1., 0., 0., 1., 1., 1., 0., 0., 1.,\n",
        "       1., 1., 1., 0., 1., 1., 0., 1., 1., 1., 1., 1., 1., 1., 1., 0., 0.,\n",
        "       0., 1., 0., 0., 1., 1., 1., 0., 0., 1., 0., 1., 0., 0., 1., 0., 0.,\n",
        "       1., 1., 0., 1., 1., 0., 1., 1., 1., 1., 0., 1., 1., 1., 1., 1., 1.,\n",
        "       1., 1., 1., 0., 1., 1., 1., 1., 0., 0., 1., 0., 1., 1., 0., 0., 1.,\n",
        "       1., 0., 0., 1., 1., 1., 1., 0., 1., 1., 0., 0., 0., 1., 0., 1., 0.,\n",
        "       1., 1., 1., 0., 1., 1., 0., 0., 1., 0., 0., 0., 0., 1., 0., 0., 0.,\n",
        "       1., 0., 1., 0., 1., 1., 0., 1., 0., 0., 0., 0., 1., 1., 0., 0., 1.,\n",
        "       1., 1., 0., 1., 1., 1., 1., 1., 0., 0., 1., 1., 0., 1., 1., 0., 0.,\n",
        "       1., 0., 1., 1., 1., 1., 0., 1., 1., 1., 1., 1., 0., 1., 0., 0., 0.,\n",
        "       0., 0., 0., 0., 0., 0., 0., 0., 0., 0., 0., 1., 1., 1., 1., 1., 1.,\n",
        "       0., 1., 0., 1., 1., 0., 1., 1., 0., 1., 0., 0., 1., 1., 1., 1., 1.,\n",
        "       1., 1., 1., 1., 1., 1., 1., 1., 0., 1., 1., 0., 1., 0., 1., 1., 1.,\n",
        "       1., 1., 1., 1., 1., 1., 1., 1., 1., 1., 1., 0., 1., 1., 1., 0., 1.,\n",
        "       0., 1., 1., 1., 1., 0., 0., 0., 1., 1., 1., 1., 0., 1., 0., 1., 0.,\n",
        "       1., 1., 1., 0., 1., 1., 1., 1., 1., 1., 1., 0., 0., 0., 1., 1., 1.,\n",
        "       1., 1., 1., 1., 1., 1., 1., 1., 0., 0., 1., 0., 0., 0., 1., 0., 0.,\n",
        "       1., 1., 1., 1., 1., 0., 1., 1., 1., 1., 1., 0., 1., 1., 1., 0., 1.,\n",
        "       1., 0., 0., 1., 1., 1., 1., 1., 1., 0., 1., 1., 1., 1., 1., 1., 1.,\n",
        "       0., 1., 1., 1., 1., 1., 0., 1., 1., 0., 1., 1., 1., 1., 1., 1., 1.,\n",
        "       1., 1., 1., 1., 1., 0., 1., 0., 0., 1., 0., 1., 1., 1., 1., 1., 0.,\n",
        "       1., 1., 0., 1., 0., 1., 1., 0., 1., 0., 1., 1., 1., 1., 1., 1., 1.,\n",
        "       1., 0., 0., 1., 1., 1., 1., 1., 1., 0., 1., 1., 1., 1., 1., 1., 1.,\n",
        "       1., 1., 1., 0., 1., 1., 1., 1., 1., 1., 1., 0., 1., 0., 1., 1., 0.,\n",
        "       1., 1., 1., 1., 1., 0., 0., 1., 0., 1., 0., 1., 1., 1., 1., 1., 0.,\n",
        "       1., 1., 0., 1., 0., 1., 0., 0., 1., 1., 1., 0., 1., 1., 1., 1., 1.,\n",
        "       1., 1., 1., 1., 1., 1., 0., 1., 0., 0., 1., 1., 1., 1., 1., 1., 1.,\n",
        "       1., 1., 1., 1., 1., 1., 1., 1., 1., 1., 1., 1., 1., 1., 1., 1., 1.,\n",
        "       1., 0., 0., 0., 0., 0., 0., 1.]\n",
        "global area\n",
        "global malignant"
      ]
    },
    {
      "cell_type": "markdown",
      "metadata": {
        "id": "EAqqZ4yrboOn"
      },
      "source": [
        "# Soal 1. Menghitung central tendency\n",
        "\n",
        "\n",
        "\n",
        "*   Hitung nilai mean dari area menggunakan cara python\n",
        "*   Hitung nilai median menggunakan library numpy\n",
        "*   Hitung nilai modus menggunakan scipy\n",
        "\n"
      ]
    },
    {
      "cell_type": "code",
      "execution_count": 52,
      "metadata": {
        "id": "KxxIPZ1jb7xR",
        "scrolled": true,
        "colab": {
          "base_uri": "https://localhost:8080/"
        },
        "outputId": "f2e27126-fc13-4784-e32d-6c671c7feced"
      },
      "outputs": [
        {
          "output_type": "stream",
          "name": "stdout",
          "text": [
            "654.8891036906857\n",
            "551.1\n",
            "ModeResult(mode=array([512.2]), count=array([3]))\n"
          ]
        }
      ],
      "source": [
        "# Mean\n",
        "mean_area = sum(area) / len(area)\n",
        "print(mean_area)\n",
        "\n",
        "# Median\n",
        "nilai_median = np.median(area)\n",
        "print(nilai_median)\n",
        "\n",
        "mode_result = stats.mode(area)\n",
        "print(\"ModeResult(mode=array([\" + str(mode_result.mode) + \"]), count=array([\" + str(mode_result.count) + \"]))\")\n",
        "#print(mode_result)"
      ]
    },
    {
      "cell_type": "markdown",
      "metadata": {
        "id": "zamDw5bIbXin"
      },
      "source": [
        "Expected output:\n",
        "\n",
        "\n",
        "```\n",
        "654.8891036906857\n",
        "551.1\n",
        "ModeResult(mode=array([512.2]), count=array([3]))\n",
        "```"
      ]
    },
    {
      "cell_type": "markdown",
      "metadata": {
        "id": "lbGK0ue5y76R"
      },
      "source": [
        "---"
      ]
    },
    {
      "cell_type": "markdown",
      "metadata": {
        "id": "WfDPupq6dxAT"
      },
      "source": [
        "# Soal 2. Menghitung sebaran data\n",
        "\n",
        "\n",
        "\n",
        "*   Hitung nilai variance dari area menggunakan numpy dengan ddof = 1\n",
        "*   Hitung nilai standar deviasi dari area menggunakan numpy dengan ddof = 1\n",
        "\n"
      ]
    },
    {
      "cell_type": "code",
      "execution_count": 31,
      "metadata": {
        "id": "RY8LfslonVMq",
        "colab": {
          "base_uri": "https://localhost:8080/"
        },
        "outputId": "01da7350-5dc8-4780-d24c-f612b3490d84"
      },
      "outputs": [
        {
          "output_type": "stream",
          "name": "stdout",
          "text": [
            "123843.55431768115\n",
            "351.914129181653\n"
          ]
        }
      ],
      "source": [
        "# Variance\n",
        "variance = np.var(area, ddof=1)\n",
        "print(variance)\n",
        "\n",
        "#Deviasi\n",
        "deviation = np.std(area, ddof=1)\n",
        "print(deviation)"
      ]
    },
    {
      "cell_type": "markdown",
      "metadata": {
        "id": "vd0o3W3_nUHe"
      },
      "source": [
        "Expected output:\n",
        "\n",
        "\n",
        "```\n",
        "123843.55431768115\n",
        "351.914129181653\n",
        "```\n",
        "\n"
      ]
    },
    {
      "cell_type": "markdown",
      "metadata": {
        "id": "G0beaH44fwkz"
      },
      "source": [
        "\n",
        "\n",
        "---\n",
        "\n",
        "\n",
        "\n",
        "---\n",
        "\n"
      ]
    },
    {
      "cell_type": "markdown",
      "metadata": {
        "id": "V1ZGmVi9feXa"
      },
      "source": [
        "# Soal 3. Menghitung Range\n",
        "\n",
        "Hitung nilai range dari area menggunakan numpy"
      ]
    },
    {
      "cell_type": "code",
      "execution_count": 32,
      "metadata": {
        "id": "_eflvygLfdbS",
        "colab": {
          "base_uri": "https://localhost:8080/"
        },
        "outputId": "e9266be6-c10e-4b21-8f83-4a2e7861fa1e"
      },
      "outputs": [
        {
          "output_type": "stream",
          "name": "stdout",
          "text": [
            "2357.5\n"
          ]
        }
      ],
      "source": [
        "# Rata - rata\n",
        "range = np.ptp(area)\n",
        "print(range)"
      ]
    },
    {
      "cell_type": "markdown",
      "metadata": {
        "id": "rBCVXNQqfpEq"
      },
      "source": [
        "Expected output:\n",
        "\n",
        "\n",
        "```\n",
        "2357.5\n",
        "```"
      ]
    },
    {
      "cell_type": "markdown",
      "metadata": {
        "id": "QxbbQiCefyvb"
      },
      "source": [
        "\n",
        "\n",
        "---\n",
        "\n",
        "\n",
        "\n",
        "---\n",
        "\n"
      ]
    },
    {
      "cell_type": "markdown",
      "metadata": {
        "id": "H5gqUHSCf2xD"
      },
      "source": [
        "# Soal 4. Menghitung Quartile\n",
        "\n",
        "Hitung Quartile 1 dan 3 dari area menggunakan numpy"
      ]
    },
    {
      "cell_type": "code",
      "execution_count": 47,
      "metadata": {
        "id": "tnhfCWvMnauS",
        "colab": {
          "base_uri": "https://localhost:8080/"
        },
        "outputId": "75a77824-5c2f-481e-aa94-dfd750e7d18a"
      },
      "outputs": [
        {
          "output_type": "stream",
          "name": "stdout",
          "text": [
            "Q1 =  420.3\n",
            "Q3 =  782.7\n"
          ]
        }
      ],
      "source": [
        "Q1 = np.percentile(area, 25)\n",
        "Q3 = np.percentile(area, 75)\n",
        "\n",
        "print(\"Q1 = \", Q1)\n",
        "print(\"Q3 = \", Q3)"
      ]
    },
    {
      "cell_type": "markdown",
      "metadata": {
        "id": "39IZU0XJgFrd"
      },
      "source": [
        "Expected output:\n",
        "\n",
        "```\n",
        "Q1 = 420.3\n",
        "\n",
        "Q3 = 782.7\n",
        "```\n"
      ]
    },
    {
      "cell_type": "markdown",
      "metadata": {
        "id": "PmyyftEPgm8X"
      },
      "source": [
        "\n",
        "\n",
        "---\n",
        "\n",
        "\n",
        "\n",
        "---\n",
        "\n"
      ]
    },
    {
      "cell_type": "markdown",
      "metadata": {
        "id": "uZ4TjoFEgotf"
      },
      "source": [
        "# Soal 5. Menghitung Covariance\n",
        "\n",
        "Hitung nilai covariance dari 'area' dan 'malignant' menggunakan numpy\n"
      ]
    },
    {
      "cell_type": "code",
      "execution_count": 40,
      "metadata": {
        "id": "Rf1DJcZ_g4Hy",
        "colab": {
          "base_uri": "https://localhost:8080/"
        },
        "outputId": "f5b96968-a8eb-4331-f6a3-c31ab36602a6"
      },
      "outputs": [
        {
          "output_type": "stream",
          "name": "stdout",
          "text": [
            "[[ 1.23843554e+05 -1.20738222e+02]\n",
            " [-1.20738222e+02  2.34176589e-01]]\n"
          ]
        }
      ],
      "source": [
        "# Covariance\n",
        "data = np.column_stack((area, malignant))\n",
        "# Menghitung covariance matrix\n",
        "covariance_matrix = np.cov(data, rowvar=False)\n",
        "print(covariance_matrix)"
      ]
    },
    {
      "cell_type": "markdown",
      "metadata": {
        "id": "33wj1HfUg6Tg"
      },
      "source": [
        "Expexted output:\n",
        "\n",
        "```\n",
        "[[ 1.23843554e+05 -1.20738222e+02]\n",
        " [-1.20738222e+02  2.34176589e-01]]\n",
        "```\n"
      ]
    },
    {
      "cell_type": "markdown",
      "metadata": {
        "id": "UHh93Ud2hUmQ"
      },
      "source": [
        "\n",
        "\n",
        "---\n",
        "\n",
        "\n",
        "\n",
        "---\n",
        "\n"
      ]
    },
    {
      "cell_type": "markdown",
      "metadata": {
        "id": "kMUm-TrZhqdI"
      },
      "source": [
        "# Statistika Inferential"
      ]
    },
    {
      "cell_type": "markdown",
      "metadata": {
        "id": "dH1_3gWfiOF9"
      },
      "source": [
        "# Soal 6. Menghintung bentuk sebaran data\n",
        "\n",
        "*   Hitung nilai skewness dari 'area' menggunakan scipy\n",
        "*   Berikan analisa bentuk sebaran data dari area\n",
        "\n"
      ]
    },
    {
      "cell_type": "code",
      "execution_count": 145,
      "metadata": {
        "id": "_SesOoaz_EiG",
        "colab": {
          "base_uri": "https://localhost:8080/"
        },
        "outputId": "bcd7050d-644e-4e3c-e967-afc90671caaa"
      },
      "outputs": [
        {
          "output_type": "stream",
          "name": "stdout",
          "text": [
            "1.6413905092044112\n"
          ]
        }
      ],
      "source": [
        "# Skewness\n",
        "nilai_skewness = skew(area)\n",
        "print(nilai_skewness)"
      ]
    },
    {
      "cell_type": "markdown",
      "metadata": {
        "id": "4jTMC_ydn0l0"
      },
      "source": [
        "Expected output:\n",
        "\n",
        "\n",
        "```\n",
        "1.6457321756240424\n",
        "```\n",
        "\n"
      ]
    },
    {
      "cell_type": "markdown",
      "metadata": {
        "id": "FktxnxPvioWl"
      },
      "source": [
        "Analisis bentuk sebaran data:\n",
        "\n"
      ]
    },
    {
      "cell_type": "markdown",
      "metadata": {
        "id": "uHZKHWWOiuFv"
      },
      "source": [
        "\n",
        "Distribusi area memiliki skewness positif sebesar 1.6413905092044112, menunjukkan kecenderungan positif skewed condong ke kanan, dengan lebih banyak nilai yang besar daripada yang kecil."
      ]
    },
    {
      "cell_type": "markdown",
      "metadata": {
        "id": "Ovb-kv6QZdnI"
      },
      "source": [
        "Silahkan untuk latihan Teman\" bisa mengolah dataset  yang saya berikan dan melakukan perhitungan sama dengan menggunakan metode diatas"
      ]
    },
    {
      "cell_type": "code",
      "execution_count": 66,
      "metadata": {
        "id": "ZFTA7PAMZdnI"
      },
      "outputs": [],
      "source": [
        "import pandas as pd\n",
        "import statistics\n",
        "import numpy as np\n",
        "import scipy.stats\n",
        "\n",
        "#untuk dapat melihat seluruh kolom dan baris\n",
        "pd.set_option('display.max_columns', None)\n",
        "pd.set_option('display.max_rows', None)"
      ]
    },
    {
      "cell_type": "code",
      "execution_count": 65,
      "metadata": {
        "colab": {
          "base_uri": "https://localhost:8080/"
        },
        "id": "LSnFUEfSZdnI",
        "outputId": "63d78c42-7bc8-4cc4-c303-85d7039b038e"
      },
      "outputs": [
        {
          "output_type": "stream",
          "name": "stdout",
          "text": [
            "Mounted at /content/drive\n"
          ]
        }
      ],
      "source": [
        "from google.colab import drive\n",
        "drive.mount('/content/drive')"
      ]
    },
    {
      "cell_type": "code",
      "source": [
        "data = pd.read_excel('/content/drive/MyDrive/Pollachieal Network/Nilai Indeks Toleransi.xlsx', index_col='Dusun')\n",
        "data.describe()"
      ],
      "metadata": {
        "id": "WQtyGntX7roH"
      },
      "execution_count": null,
      "outputs": []
    },
    {
      "cell_type": "code",
      "source": [
        "data.head()"
      ],
      "metadata": {
        "id": "0flL7Ddh73sI"
      },
      "execution_count": null,
      "outputs": []
    },
    {
      "cell_type": "markdown",
      "source": [
        "1. Central Tendency"
      ],
      "metadata": {
        "id": "6QFCm9yF8KoU"
      }
    },
    {
      "cell_type": "code",
      "source": [
        "# Menghitung nilai mean dari setiap kolom menggunakan Python\n",
        "mean_values = data.mean()\n",
        "for column in data.columns:\n",
        "    print(\"\\nKolom:\", column)\n",
        "    print(\"Mean:\", mean_values[column])"
      ],
      "metadata": {
        "colab": {
          "base_uri": "https://localhost:8080/"
        },
        "id": "pkbqh8pj8LPA",
        "outputId": "c3efd86f-00db-41ea-c6b2-38ed74f18369"
      },
      "execution_count": 133,
      "outputs": [
        {
          "output_type": "stream",
          "name": "stdout",
          "text": [
            "\n",
            "Kolom: Q1\n",
            "Mean: 3.53125\n",
            "\n",
            "Kolom: Q2\n",
            "Mean: 3.375\n",
            "\n",
            "Kolom: Q3\n",
            "Mean: 3.375\n",
            "\n",
            "Kolom: Q4\n",
            "Mean: 3.21875\n",
            "\n",
            "Kolom: Q5\n",
            "Mean: 3.3125\n",
            "\n",
            "Kolom: Q6\n",
            "Mean: 3.65625\n",
            "\n",
            "Kolom: Q7\n",
            "Mean: 4.1875\n",
            "\n",
            "Kolom: Q8\n",
            "Mean: 4.375\n",
            "\n",
            "Kolom: Q9\n",
            "Mean: 4.21875\n",
            "\n",
            "Kolom: Q10\n",
            "Mean: 3.9375\n"
          ]
        }
      ]
    },
    {
      "cell_type": "code",
      "source": [
        "# Menghitung nilai median dari setiap kolom menggunakan NumPy\n",
        "median_values = np.median(data, axis=0)\n",
        "for column in data.columns:\n",
        "  print(\"\\nKolom:\", column)\n",
        "  print(\"Median:\", median_values[data.columns.get_loc(column)])  # Median menggunakan indeks kolom"
      ],
      "metadata": {
        "colab": {
          "base_uri": "https://localhost:8080/"
        },
        "id": "9dSNf42jHt2s",
        "outputId": "6e2c0b6a-1803-4cf9-cdc8-d6bfa3497962"
      },
      "execution_count": 121,
      "outputs": [
        {
          "output_type": "stream",
          "name": "stdout",
          "text": [
            "\n",
            "Kolom: Q1\n",
            "Median: 4.0\n",
            "\n",
            "Kolom: Q2\n",
            "Median: 3.0\n",
            "\n",
            "Kolom: Q3\n",
            "Median: 3.0\n",
            "\n",
            "Kolom: Q4\n",
            "Median: 3.0\n",
            "\n",
            "Kolom: Q5\n",
            "Median: 3.0\n",
            "\n",
            "Kolom: Q6\n",
            "Median: 4.0\n",
            "\n",
            "Kolom: Q7\n",
            "Median: 4.0\n",
            "\n",
            "Kolom: Q8\n",
            "Median: 5.0\n",
            "\n",
            "Kolom: Q9\n",
            "Median: 4.0\n",
            "\n",
            "Kolom: Q10\n",
            "Median: 4.0\n"
          ]
        }
      ]
    },
    {
      "cell_type": "code",
      "source": [
        "# Menghitung nilai modus dari setiap kolom menggunakan SciPy\n",
        "mode_values = stats.mode(data, axis=0)\n",
        "for i, column_mode in enumerate(mode_values[0]):\n",
        "    print(\"\\nKolom:\", column)\n",
        "    print(\"Modus:\", column_mode)"
      ],
      "metadata": {
        "colab": {
          "base_uri": "https://localhost:8080/"
        },
        "id": "xDkpGRGCIAfA",
        "outputId": "10702ea1-5274-4356-9340-fcf57c678f1e"
      },
      "execution_count": 162,
      "outputs": [
        {
          "output_type": "stream",
          "name": "stdout",
          "text": [
            "\n",
            "Kolom: Q10\n",
            "Modus: 4\n",
            "\n",
            "Kolom: Q10\n",
            "Modus: 3\n",
            "\n",
            "Kolom: Q10\n",
            "Modus: 3\n",
            "\n",
            "Kolom: Q10\n",
            "Modus: 3\n",
            "\n",
            "Kolom: Q10\n",
            "Modus: 3\n",
            "\n",
            "Kolom: Q10\n",
            "Modus: 4\n",
            "\n",
            "Kolom: Q10\n",
            "Modus: 4\n",
            "\n",
            "Kolom: Q10\n",
            "Modus: 5\n",
            "\n",
            "Kolom: Q10\n",
            "Modus: 4\n",
            "\n",
            "Kolom: Q10\n",
            "Modus: 4\n"
          ]
        }
      ]
    },
    {
      "cell_type": "markdown",
      "source": [
        "2. Variance dan Deviasi"
      ],
      "metadata": {
        "id": "fTm6QX0AL8gy"
      }
    },
    {
      "cell_type": "code",
      "source": [
        "# Menghitung variance dan standar deviasi\n",
        "variance_values = data.var()\n",
        "std_deviation_values = data.std()\n",
        "\n",
        "for column in data.columns:\n",
        "    print(\"\\nKolom:\", column)\n",
        "    print(\"Variance:\", variance_values[column])\n",
        "    print(\"Standar Deviasi:\", std_deviation_values[column])"
      ],
      "metadata": {
        "colab": {
          "base_uri": "https://localhost:8080/"
        },
        "id": "DROODz7MLwKQ",
        "outputId": "96c93d2a-c127-48b9-ddea-1d6680e810c4"
      },
      "execution_count": 137,
      "outputs": [
        {
          "output_type": "stream",
          "name": "stdout",
          "text": [
            "\n",
            "Kolom: Q1\n",
            "Variance: 0.7731854838709677\n",
            "Standar Deviasi: 0.8793096632421185\n",
            "\n",
            "Kolom: Q2\n",
            "Variance: 0.43548387096774194\n",
            "Standar Deviasi: 0.6599120175960898\n",
            "\n",
            "Kolom: Q3\n",
            "Variance: 0.5\n",
            "Standar Deviasi: 0.7071067811865476\n",
            "\n",
            "Kolom: Q4\n",
            "Variance: 0.30544354838709675\n",
            "Standar Deviasi: 0.5526694748103036\n",
            "\n",
            "Kolom: Q5\n",
            "Variance: 0.9959677419354839\n",
            "Standar Deviasi: 0.9979818344716921\n",
            "\n",
            "Kolom: Q6\n",
            "Variance: 0.9425403225806451\n",
            "Standar Deviasi: 0.970845158910856\n",
            "\n",
            "Kolom: Q7\n",
            "Variance: 0.5443548387096774\n",
            "Standar Deviasi: 0.7378040652569471\n",
            "\n",
            "Kolom: Q8\n",
            "Variance: 0.5645161290322581\n",
            "Standar Deviasi: 0.7513428837969107\n",
            "\n",
            "Kolom: Q9\n",
            "Variance: 0.49899193548387094\n",
            "Standar Deviasi: 0.7063936122898273\n",
            "\n",
            "Kolom: Q10\n",
            "Variance: 0.4475806451612903\n",
            "Standar Deviasi: 0.6690146823211658\n"
          ]
        }
      ]
    },
    {
      "cell_type": "markdown",
      "source": [
        "3. Range"
      ],
      "metadata": {
        "id": "pXkFcC-iC7ud"
      }
    },
    {
      "cell_type": "code",
      "source": [
        "for column_index, column in enumerate(data.columns):\n",
        "    print(\"\\nKolom:\", column)\n",
        "    column_data = data.iloc[:, column_index]\n",
        "    column_range = np.ptp(column_data)\n",
        "    print(\"Range:\", column_range)"
      ],
      "metadata": {
        "colab": {
          "base_uri": "https://localhost:8080/"
        },
        "id": "RH1M4XgkLSPI",
        "outputId": "8bea2dbe-4550-4baa-e474-be0569746fa8"
      },
      "execution_count": 140,
      "outputs": [
        {
          "output_type": "stream",
          "name": "stdout",
          "text": [
            "\n",
            "Kolom: Q1\n",
            "Range: 3\n",
            "\n",
            "Kolom: Q2\n",
            "Range: 3\n",
            "\n",
            "Kolom: Q3\n",
            "Range: 3\n",
            "\n",
            "Kolom: Q4\n",
            "Range: 2\n",
            "\n",
            "Kolom: Q5\n",
            "Range: 4\n",
            "\n",
            "Kolom: Q6\n",
            "Range: 4\n",
            "\n",
            "Kolom: Q7\n",
            "Range: 2\n",
            "\n",
            "Kolom: Q8\n",
            "Range: 2\n",
            "\n",
            "Kolom: Q9\n",
            "Range: 2\n",
            "\n",
            "Kolom: Q10\n",
            "Range: 3\n"
          ]
        }
      ]
    },
    {
      "cell_type": "markdown",
      "source": [
        "4. Quartil"
      ],
      "metadata": {
        "id": "yAWvHqraC_F2"
      }
    },
    {
      "cell_type": "code",
      "source": [
        "# Quartil 1 dan 3\n",
        "for column_index, column in enumerate(data.columns):\n",
        "    print(\"\\nKolom:\", column)\n",
        "    quartile_1 = np.percentile(column_data, 25)\n",
        "    quartile_3 = np.percentile(column_data, 75)\n",
        "    print(\"Quartil 1:\", quartile_1)\n",
        "    print(\"Quartil 3:\", quartile_3)"
      ],
      "metadata": {
        "colab": {
          "base_uri": "https://localhost:8080/"
        },
        "id": "Q1co0ILSDDUM",
        "outputId": "9e5bf2f0-4ba7-4bd2-eea4-a7613fe5a2ba"
      },
      "execution_count": 141,
      "outputs": [
        {
          "output_type": "stream",
          "name": "stdout",
          "text": [
            "\n",
            "Kolom: Q1\n",
            "Quartil 1: 4.0\n",
            "Quartil 3: 4.0\n",
            "\n",
            "Kolom: Q2\n",
            "Quartil 1: 4.0\n",
            "Quartil 3: 4.0\n",
            "\n",
            "Kolom: Q3\n",
            "Quartil 1: 4.0\n",
            "Quartil 3: 4.0\n",
            "\n",
            "Kolom: Q4\n",
            "Quartil 1: 4.0\n",
            "Quartil 3: 4.0\n",
            "\n",
            "Kolom: Q5\n",
            "Quartil 1: 4.0\n",
            "Quartil 3: 4.0\n",
            "\n",
            "Kolom: Q6\n",
            "Quartil 1: 4.0\n",
            "Quartil 3: 4.0\n",
            "\n",
            "Kolom: Q7\n",
            "Quartil 1: 4.0\n",
            "Quartil 3: 4.0\n",
            "\n",
            "Kolom: Q8\n",
            "Quartil 1: 4.0\n",
            "Quartil 3: 4.0\n",
            "\n",
            "Kolom: Q9\n",
            "Quartil 1: 4.0\n",
            "Quartil 3: 4.0\n",
            "\n",
            "Kolom: Q10\n",
            "Quartil 1: 4.0\n",
            "Quartil 3: 4.0\n"
          ]
        }
      ]
    },
    {
      "cell_type": "markdown",
      "source": [
        "5. Covariance"
      ],
      "metadata": {
        "id": "R5seAKaQDD-o"
      }
    },
    {
      "cell_type": "code",
      "source": [
        "covariance_matrix = np.cov(data_array, rowvar=False)\n",
        "# Menampilkan kovariansi menggunakan indeks kolom\n",
        "columns = list(data.keys())\n",
        "for i, column1 in enumerate(columns):\n",
        "    for j, column2 in enumerate(columns):\n",
        "        print(f\"Covariance {column1}-{column2} : {covariance_matrix[i][j]}\")"
      ],
      "metadata": {
        "colab": {
          "base_uri": "https://localhost:8080/"
        },
        "id": "uBr3kxdsR2Hf",
        "outputId": "595de9bc-60db-4a6b-bd55-bcaacbf7ee76"
      },
      "execution_count": 161,
      "outputs": [
        {
          "output_type": "stream",
          "name": "stdout",
          "text": [
            "Covariance Q1-Q1 : 0.4555555555555556\n",
            "Covariance Q1-Q2 : 0.37777777777777777\n",
            "Covariance Q1-Q3 : 0.7\n",
            "Covariance Q1-Q4 : 0.4555555555555556\n",
            "Covariance Q1-Q5 : 0.07777777777777779\n",
            "Covariance Q1-Q6 : 0.37777777777777777\n",
            "Covariance Q1-Q7 : 0.12222222222222223\n",
            "Covariance Q1-Q8 : 0.411111111111111\n",
            "Covariance Q1-Q9 : 0.4555555555555556\n",
            "Covariance Q1-Q10 : 0.3333333333333333\n",
            "Covariance Q2-Q1 : 0.37777777777777777\n",
            "Covariance Q2-Q2 : 0.39999999999999997\n",
            "Covariance Q2-Q3 : 0.5777777777777776\n",
            "Covariance Q2-Q4 : 0.37777777777777777\n",
            "Covariance Q2-Q5 : 0.08888888888888886\n",
            "Covariance Q2-Q6 : 0.39999999999999997\n",
            "Covariance Q2-Q7 : 0.04444444444444446\n",
            "Covariance Q2-Q8 : 0.31111111111111106\n",
            "Covariance Q2-Q9 : 0.37777777777777777\n",
            "Covariance Q2-Q10 : 0.3333333333333333\n",
            "Covariance Q3-Q1 : 0.7\n",
            "Covariance Q3-Q2 : 0.5777777777777776\n",
            "Covariance Q3-Q3 : 2.0999999999999996\n",
            "Covariance Q3-Q4 : 0.7\n",
            "Covariance Q3-Q5 : -0.09999999999999998\n",
            "Covariance Q3-Q6 : 1.4666666666666666\n",
            "Covariance Q3-Q7 : 0.14444444444444443\n",
            "Covariance Q3-Q8 : 0.8999999999999999\n",
            "Covariance Q3-Q9 : 1.0333333333333334\n",
            "Covariance Q3-Q10 : 1.2222222222222223\n",
            "Covariance Q4-Q1 : 0.4555555555555556\n",
            "Covariance Q4-Q2 : 0.37777777777777777\n",
            "Covariance Q4-Q3 : 0.7\n",
            "Covariance Q4-Q4 : 0.4555555555555556\n",
            "Covariance Q4-Q5 : 0.07777777777777779\n",
            "Covariance Q4-Q6 : 0.37777777777777777\n",
            "Covariance Q4-Q7 : 0.12222222222222223\n",
            "Covariance Q4-Q8 : 0.411111111111111\n",
            "Covariance Q4-Q9 : 0.4555555555555556\n",
            "Covariance Q4-Q10 : 0.3333333333333333\n",
            "Covariance Q5-Q1 : 0.07777777777777779\n",
            "Covariance Q5-Q2 : 0.08888888888888886\n",
            "Covariance Q5-Q3 : -0.09999999999999998\n",
            "Covariance Q5-Q4 : 0.07777777777777779\n",
            "Covariance Q5-Q5 : 0.5444444444444444\n",
            "Covariance Q5-Q6 : -0.24444444444444446\n",
            "Covariance Q5-Q7 : 0.6333333333333333\n",
            "Covariance Q5-Q8 : 0.09999999999999998\n",
            "Covariance Q5-Q9 : -0.033333333333333326\n",
            "Covariance Q5-Q10 : -0.2222222222222222\n",
            "Covariance Q6-Q1 : 0.37777777777777777\n",
            "Covariance Q6-Q2 : 0.39999999999999997\n",
            "Covariance Q6-Q3 : 1.4666666666666666\n",
            "Covariance Q6-Q4 : 0.37777777777777777\n",
            "Covariance Q6-Q5 : -0.24444444444444446\n",
            "Covariance Q6-Q6 : 1.288888888888889\n",
            "Covariance Q6-Q7 : -0.17777777777777773\n",
            "Covariance Q6-Q8 : 0.42222222222222217\n",
            "Covariance Q6-Q9 : 0.711111111111111\n",
            "Covariance Q6-Q10 : 1.0\n",
            "Covariance Q7-Q1 : 0.12222222222222223\n",
            "Covariance Q7-Q2 : 0.04444444444444446\n",
            "Covariance Q7-Q3 : 0.14444444444444443\n",
            "Covariance Q7-Q4 : 0.12222222222222223\n",
            "Covariance Q7-Q5 : 0.6333333333333333\n",
            "Covariance Q7-Q6 : -0.17777777777777773\n",
            "Covariance Q7-Q7 : 1.122222222222222\n",
            "Covariance Q7-Q8 : 0.29999999999999993\n",
            "Covariance Q7-Q9 : 0.011111111111111118\n",
            "Covariance Q7-Q10 : -0.2222222222222222\n",
            "Covariance Q8-Q1 : 0.411111111111111\n",
            "Covariance Q8-Q2 : 0.31111111111111106\n",
            "Covariance Q8-Q3 : 0.8999999999999999\n",
            "Covariance Q8-Q4 : 0.411111111111111\n",
            "Covariance Q8-Q5 : 0.09999999999999998\n",
            "Covariance Q8-Q6 : 0.42222222222222217\n",
            "Covariance Q8-Q7 : 0.29999999999999993\n",
            "Covariance Q8-Q8 : 0.7666666666666667\n",
            "Covariance Q8-Q9 : 0.5222222222222223\n",
            "Covariance Q8-Q10 : 0.3333333333333333\n",
            "Covariance Q9-Q1 : 0.4555555555555556\n",
            "Covariance Q9-Q2 : 0.37777777777777777\n",
            "Covariance Q9-Q3 : 1.0333333333333334\n",
            "Covariance Q9-Q4 : 0.4555555555555556\n",
            "Covariance Q9-Q5 : -0.033333333333333326\n",
            "Covariance Q9-Q6 : 0.711111111111111\n",
            "Covariance Q9-Q7 : 0.011111111111111118\n",
            "Covariance Q9-Q8 : 0.5222222222222223\n",
            "Covariance Q9-Q9 : 0.6777777777777778\n",
            "Covariance Q9-Q10 : 0.5555555555555556\n",
            "Covariance Q10-Q1 : 0.3333333333333333\n",
            "Covariance Q10-Q2 : 0.3333333333333333\n",
            "Covariance Q10-Q3 : 1.2222222222222223\n",
            "Covariance Q10-Q4 : 0.3333333333333333\n",
            "Covariance Q10-Q5 : -0.2222222222222222\n",
            "Covariance Q10-Q6 : 1.0\n",
            "Covariance Q10-Q7 : -0.2222222222222222\n",
            "Covariance Q10-Q8 : 0.3333333333333333\n",
            "Covariance Q10-Q9 : 0.5555555555555556\n",
            "Covariance Q10-Q10 : 0.8888888888888888\n"
          ]
        }
      ]
    },
    {
      "cell_type": "markdown",
      "source": [
        "6. Skewness sebaran data"
      ],
      "metadata": {
        "id": "Ske5GB-wN0Bv"
      }
    },
    {
      "cell_type": "code",
      "source": [
        "# Menghitung nilai skewness dengan indeks kolom\n",
        "skewness_values = {column: skew(data[column]) for column in data}\n",
        "\n",
        "# Menampilkan nilai skewness untuk setiap kolom\n",
        "for column, skewness in skewness_values.items():\n",
        "    print(f\"Nilai Skewness '{column}': {skewness}\")\n",
        "    if skewness > 0:\n",
        "        print(\"Sebaran data miring ke kanan.\")\n",
        "    elif skewness < 0:\n",
        "        print(\"Sebaran data miring ke kiri.\")\n",
        "    else:\n",
        "        print(\"Sebaran data simetris.\")\n",
        "    print()"
      ],
      "metadata": {
        "colab": {
          "base_uri": "https://localhost:8080/"
        },
        "id": "CdyMts93Qw_X",
        "outputId": "a23d9348-6df4-4fca-9d2a-ac6bc6922b2c"
      },
      "execution_count": 158,
      "outputs": [
        {
          "output_type": "stream",
          "name": "stdout",
          "text": [
            "Nilai Skewness 'Q1': -0.09631913715796918\n",
            "Sebaran data miring ke kiri.\n",
            "\n",
            "Nilai Skewness 'Q2': 0.8125670455261399\n",
            "Sebaran data miring ke kanan.\n",
            "\n",
            "Nilai Skewness 'Q3': 0.45191011477704657\n",
            "Sebaran data miring ke kanan.\n",
            "\n",
            "Nilai Skewness 'Q4': 0.0875947409917818\n",
            "Sebaran data miring ke kanan.\n",
            "\n",
            "Nilai Skewness 'Q5': -0.26121163953742454\n",
            "Sebaran data miring ke kiri.\n",
            "\n",
            "Nilai Skewness 'Q6': -1.4171981730329426\n",
            "Sebaran data miring ke kiri.\n",
            "\n",
            "Nilai Skewness 'Q7': -0.3021883302226034\n",
            "Sebaran data miring ke kiri.\n",
            "\n",
            "Nilai Skewness 'Q8': -0.7244179326244428\n",
            "Sebaran data miring ke kiri.\n",
            "\n",
            "Nilai Skewness 'Q9': -0.3241607419520235\n",
            "Sebaran data miring ke kiri.\n",
            "\n",
            "Nilai Skewness 'Q10': -0.5900171324947966\n",
            "Sebaran data miring ke kiri.\n",
            "\n"
          ]
        }
      ]
    }
  ],
  "metadata": {
    "colab": {
      "provenance": []
    },
    "kernelspec": {
      "display_name": "Python 3 (ipykernel)",
      "language": "python",
      "name": "python3"
    },
    "language_info": {
      "codemirror_mode": {
        "name": "ipython",
        "version": 3
      },
      "file_extension": ".py",
      "mimetype": "text/x-python",
      "name": "python",
      "nbconvert_exporter": "python",
      "pygments_lexer": "ipython3",
      "version": "3.12.2"
    }
  },
  "nbformat": 4,
  "nbformat_minor": 0
}