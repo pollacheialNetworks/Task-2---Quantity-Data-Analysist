{
 "cells": [
  {
   "cell_type": "markdown",
   "metadata": {
    "id": "IE8a6SXLbYzl"
   },
   "source": [
    "# Statistika Deskriptif"
   ]
  },
  {
   "cell_type": "code",
   "execution_count": 3,
   "metadata": {
    "id": "u6bx8Llrbhs8"
   },
   "outputs": [],
   "source": [
    "import statistics\n",
    "import numpy as np\n",
    "import scipy.stats\n",
    "\n",
    "\n",
    "#Berikut adalah data dari breast cancer dataset, area dan status mematikan atau tidaknya\n",
    "\n",
    "area = [1001. , 1326. , 1203. ,  386.1, 1297. ,  477.1, 1040. ,  577.9, 519.8,  475.9,  797.8,  781. , 1123. ,  782.7,  578.3,  658.8, 684.5,  798.8, 1260. ,  566.3,  520. ,  273.9,  704.4, 1404. ,\n",
    "        904.6,  912.7,  644.8, 1094. ,  732.4,  955.1, 1088. ,  440.6, 899.3, 1162. ,  807.2,  869.5,  633. ,  523.8,  698.8,  559.2, 563. ,  371.1, 1104. ,  545.2,  531.5, 1076. ,  201.9,  534.6,\n",
    "        449.3,  561. ,  427.9,  571.8,  437.6, 1033. ,  712.8,  409. , 1152. ,  656.9,  527.2,  224.5,  311.9,  221.8,  645.7,  260.9, 499. ,  668.3,  269.4,  394.1,  250.5,  502.5, 1130. ,  244. ,\n",
    "        929.4,  584.1,  470.9,  817.7,  559.2, 1006. , 1245. ,  506.3, 401.5,  520. , 1878. , 1132. ,  443.3, 1075. ,  648.2, 1076. , 466.1,  651.9,  662.7,  728.2,  551.7,  555.1,  705.6, 1264. ,\n",
    "        451.1,  294.5,  412.6,  642.5,  582.7,  143.5,  458.7,  298.3, 336.1,  530.2,  412.5,  466.7, 1509. ,  396.5,  290.2,  480.4, 629.9,  334.2,  230.9,  438.6,  245.2,  682.5,  782.6,  982. ,\n",
    "        403.3, 1077. , 1761. ,  640.7,  553.5,  588.7,  572.6, 1138. , 674.5, 1192. ,  455.8,  748.9,  809.8,  761.7, 1075. ,  506.3, 423.6,  399.8,  678.1,  384.8,  288.5,  813. ,  398. ,  512.2,\n",
    "        355.3,  432.8,  432. ,  689.5,  640.1,  585. ,  519.4,  203.9, 300.2,  381.9,  538.9,  460.3,  963.7,  880.2,  448.6,  366.8, 419.8, 1157. , 1214. ,  464.5, 1686. ,  690.2,  357.6,  886.3,\n",
    "        984.6,  685.9,  464.1,  565.4,  736.9,  372.7,  349.6,  227.2, 302.4,  832.9,  526.4,  508.8, 2250. , 1311. ,  766.6,  402. , 710.6,  317.5, 1041. ,  420.3,  428.9,  463.7,  609.9,  507.4,\n",
    "        288.1,  477.4,  671.4,  516.4,  588.9, 1024. , 1148. ,  642.7, 461. ,  951.6, 1685. ,  597.8,  481.9,  716.6,  295.4,  904.3, 529.4,  725.5, 1290. ,  428. , 2499. ,  948. ,  610.7,  578.9,\n",
    "        432.2,  321.2, 1230. , 1223. ,  568.9,  561.3,  313.1,  761.3, 546.4,  641.2,  329.6,  684.5,  496.4,  503.2,  895. ,  395.7, 386.8, 1319. ,  279.6,  603.4, 1670. , 1306. ,  623.9,  920.6,\n",
    "        575.3,  476.5,  389.4,  590. , 1155. ,  337.7,  541.6,  512.2, 347. ,  406.3, 1364. ,  407.4, 1206. ,  928.2, 1169. ,  602.4, 1207. ,  713.3,  773.5,  744.9, 1288. ,  933.1,  947.8,  758.6,\n",
    "        928.3, 1419. ,  346.4,  561. ,  512.2,  344.9,  632.6,  388. , 1491. ,  289.9,  998.9,  435.6,  396.6, 1102. ,  572.3,  587.4, 1138. ,  427.3, 1145. ,  805.1,  516.6,  489. ,  441. ,  515.9,\n",
    "        394.1,  396. ,  651. ,  687.3,  513.7,  432.7,  492.1,  582.7, 363.7,  431.1,  633.1,  334.2, 1217. ,  471.3, 1247. ,  334.3, 403.1,  417.2,  537.3,  246.3,  566.2,  530.6,  418.7,  664.9,\n",
    "        504.1,  409.1,  221.2,  481.6,  461.4, 1027. ,  244.5,  477.3, 324.2, 1274. ,  504.8, 1264. ,  457.9,  489.9,  616.5,  446. , 813.7,  826.8,  793.2,  514. ,  387.3,  390. ,  464.4,  918.6,\n",
    "        514.3, 1092. ,  310.8, 1747. ,  641.2,  280.5,  373.9, 1194. , 420.3,  321.6,  445.3,  668.7,  402.7,  426.7,  421. ,  758.6, 2010. ,  716.6,  384.6,  485.8,  512. ,  593.7,  241. ,  278.6,\n",
    "        491.9,  546.1,  496.6,  838.1,  552.4, 1293. , 1234. ,  458.4, 1546. , 1482. ,  840.4,  711.8, 1386. , 1335. ,  579.1,  788.5, 338.3,  562.1,  580.6,  361.6,  386.3,  372.7,  447.8,  462.9,\n",
    "        541.8,  664.7,  462. ,  596.6,  392. , 1174. ,  321.6,  234.3, 744.7, 1407. ,  446.2,  609.1,  558.1,  508.3,  378.2,  431.9, 994. ,  442.7,  525.2,  507.6,  469.1,  370. ,  800. ,  514.5,\n",
    "        991.7,  466.1,  399.8,  373.2,  268.8,  693.7,  719.5,  433.8, 271.2,  803.1,  495. ,  380.3,  409.7,  656.1,  408.2,  575.3, 289.7,  307.3,  333.6,  359.9,  381.1,  501.3,  685. ,  467.8,\n",
    "       1250. , 1110. ,  673.7,  599.5,  509.2,  611.2,  592.6,  606.5, 371.5,  928.8,  585.9,  340.9,  990. ,  441.3,  981.6,  674.8, 659.7, 1384. ,  432. , 1191. ,  442.5,  644.2,  492.9,  557.2,\n",
    "        415.1,  537.9,  520.2,  290.9,  930.9, 2501. ,  646.1,  412.7, 537.3,  542.9,  536.9,  286.3,  980.5,  408.8,  289.1,  449.9, 686.9,  465.4,  358.9,  506.9,  618.4,  599.4,  404.9,  815.8,\n",
    "        455.3,  602.9,  546.3,  571.1,  747.2,  476.7,  666. , 1167. , 420.5,  857.6,  466.5,  992.1, 1007. ,  477.3,  538.7,  680.9, 485.6,  480.1, 1068. , 1320. ,  689.4,  595.9,  476.3, 1682. ,\n",
    "        248.7,  272.5,  453.1,  366.5,  819.8,  731.3,  426. ,  680.7, 556.7,  658.8,  701.9,  391.2, 1052. , 1214. ,  493.1,  493.8, 257.8, 1841. ,  388.1,  571. ,  293.2,  221.3,  551.1,  468.5,\n",
    "        594.2,  445.2,  422.9,  416.2,  575.5, 1299. ,  365.6, 1308. , 629.8,  406.4,  178.8,  170.4,  402.9,  656.4,  668.6,  538.4, 584.8,  573.2,  324.9,  320.8,  285.7,  361.6,  360.5,  378.4,\n",
    "        507.9,  264. ,  514.3,  321.4,  311.7,  271.3,  657.1,  403.5, 600.4,  386. ,  716.9, 1347. , 1479. , 1261. ,  858.1, 1265. , 181. ]\n",
    "\n",
    "malignant = [0., 0., 0., 0., 0., 0., 0., 0., 0., 0., 0., 0., 0., 0., 0., 0., 0.,\n",
    "       0., 0., 1., 1., 1., 0., 0., 0., 0., 0., 0., 0., 0., 0., 0., 0., 0.,\n",
    "       0., 0., 0., 1., 0., 0., 0., 0., 0., 0., 0., 0., 1., 0., 1., 1., 1.,\n",
    "       1., 1., 0., 0., 1., 0., 0., 1., 1., 1., 1., 0., 1., 0., 0., 1., 1.,\n",
    "       1., 1., 0., 1., 0., 0., 1., 0., 1., 0., 0., 1., 1., 1., 0., 0., 1.,\n",
    "       0., 0., 0., 1., 1., 1., 0., 1., 1., 0., 0., 1., 1., 1., 0., 0., 1.,\n",
    "       1., 1., 1., 0., 1., 1., 0., 1., 1., 1., 1., 1., 1., 1., 1., 0., 0.,\n",
    "       0., 1., 0., 0., 1., 1., 1., 0., 0., 1., 0., 1., 0., 0., 1., 0., 0.,\n",
    "       1., 1., 0., 1., 1., 0., 1., 1., 1., 1., 0., 1., 1., 1., 1., 1., 1.,\n",
    "       1., 1., 1., 0., 1., 1., 1., 1., 0., 0., 1., 0., 1., 1., 0., 0., 1.,\n",
    "       1., 0., 0., 1., 1., 1., 1., 0., 1., 1., 0., 0., 0., 1., 0., 1., 0.,\n",
    "       1., 1., 1., 0., 1., 1., 0., 0., 1., 0., 0., 0., 0., 1., 0., 0., 0.,\n",
    "       1., 0., 1., 0., 1., 1., 0., 1., 0., 0., 0., 0., 1., 1., 0., 0., 1.,\n",
    "       1., 1., 0., 1., 1., 1., 1., 1., 0., 0., 1., 1., 0., 1., 1., 0., 0.,\n",
    "       1., 0., 1., 1., 1., 1., 0., 1., 1., 1., 1., 1., 0., 1., 0., 0., 0.,\n",
    "       0., 0., 0., 0., 0., 0., 0., 0., 0., 0., 0., 1., 1., 1., 1., 1., 1.,\n",
    "       0., 1., 0., 1., 1., 0., 1., 1., 0., 1., 0., 0., 1., 1., 1., 1., 1.,\n",
    "       1., 1., 1., 1., 1., 1., 1., 1., 0., 1., 1., 0., 1., 0., 1., 1., 1.,\n",
    "       1., 1., 1., 1., 1., 1., 1., 1., 1., 1., 1., 0., 1., 1., 1., 0., 1.,\n",
    "       0., 1., 1., 1., 1., 0., 0., 0., 1., 1., 1., 1., 0., 1., 0., 1., 0.,\n",
    "       1., 1., 1., 0., 1., 1., 1., 1., 1., 1., 1., 0., 0., 0., 1., 1., 1.,\n",
    "       1., 1., 1., 1., 1., 1., 1., 1., 0., 0., 1., 0., 0., 0., 1., 0., 0.,\n",
    "       1., 1., 1., 1., 1., 0., 1., 1., 1., 1., 1., 0., 1., 1., 1., 0., 1.,\n",
    "       1., 0., 0., 1., 1., 1., 1., 1., 1., 0., 1., 1., 1., 1., 1., 1., 1.,\n",
    "       0., 1., 1., 1., 1., 1., 0., 1., 1., 0., 1., 1., 1., 1., 1., 1., 1.,\n",
    "       1., 1., 1., 1., 1., 0., 1., 0., 0., 1., 0., 1., 1., 1., 1., 1., 0.,\n",
    "       1., 1., 0., 1., 0., 1., 1., 0., 1., 0., 1., 1., 1., 1., 1., 1., 1.,\n",
    "       1., 0., 0., 1., 1., 1., 1., 1., 1., 0., 1., 1., 1., 1., 1., 1., 1.,\n",
    "       1., 1., 1., 0., 1., 1., 1., 1., 1., 1., 1., 0., 1., 0., 1., 1., 0.,\n",
    "       1., 1., 1., 1., 1., 0., 0., 1., 0., 1., 0., 1., 1., 1., 1., 1., 0.,\n",
    "       1., 1., 0., 1., 0., 1., 0., 0., 1., 1., 1., 0., 1., 1., 1., 1., 1.,\n",
    "       1., 1., 1., 1., 1., 1., 0., 1., 0., 0., 1., 1., 1., 1., 1., 1., 1.,\n",
    "       1., 1., 1., 1., 1., 1., 1., 1., 1., 1., 1., 1., 1., 1., 1., 1., 1.,\n",
    "       1., 0., 0., 0., 0., 0., 0., 1.]\n",
    "global area\n",
    "global malignant"
   ]
  },
  {
   "cell_type": "markdown",
   "metadata": {
    "id": "EAqqZ4yrboOn"
   },
   "source": [
    "# Soal 1. Menghitung central tendency\n",
    "\n",
    "\n",
    "\n",
    "*   Hitung nilai mean dari area menggunakan cara python\n",
    "*   Hitung nilai median menggunakan library numpy\n",
    "*   Hitung nilai modus menggunakan scipy\n",
    "\n"
   ]
  },
  {
   "cell_type": "code",
   "execution_count": 13,
   "metadata": {
    "id": "KxxIPZ1jb7xR",
    "scrolled": true
   },
   "outputs": [
    {
     "name": "stdout",
     "output_type": "stream",
     "text": [
      "Mean area : 654.8891036906855\n",
      "Median area: 551.1\n",
      "Modus area: ModeResult(mode=512.2, count=3)\n"
     ]
    }
   ],
   "source": [
    "# Cara python\n",
    "total_area = sum(area)\n",
    "mean_area = total_area/len(area)\n",
    "\n",
    "print(f\"Mean area : {mean_area}\")\n",
    "\n",
    "# menggunakan libray numpy\n",
    "\n",
    "median_area = np.median(area)\n",
    "print(\"Median area:\", median_area)\n",
    "\n",
    "# menggunakan scipy\n",
    "import  scipy.stats as stats\n",
    "modus_area = stats.mode(area)\n",
    "\n",
    "print(\"Modus area:\", modus_area)"
   ]
  },
  {
   "cell_type": "markdown",
   "metadata": {
    "id": "zamDw5bIbXin"
   },
   "source": [
    "Expected output:\n",
    "\n",
    "\n",
    "```\n",
    "654.8891036906857 \n",
    "551.1\n",
    "ModeResult(mode=array([512.2]), count=array([3]))\n",
    "```"
   ]
  },
  {
   "cell_type": "markdown",
   "metadata": {
    "id": "lbGK0ue5y76R"
   },
   "source": [
    "---"
   ]
  },
  {
   "cell_type": "markdown",
   "metadata": {
    "id": "WfDPupq6dxAT"
   },
   "source": [
    "# Soal 2. Menghitung sebaran data\n",
    "\n",
    "\n",
    "\n",
    "*   Hitung nilai variance dari area menggunakan numpy dengan ddof = 1\n",
    "*   Hitung nilai standar deviasi dari area menggunakan numpy dengan ddof = 1\n",
    "\n"
   ]
  },
  {
   "cell_type": "code",
   "execution_count": 15,
   "metadata": {
    "id": "RY8LfslonVMq"
   },
   "outputs": [
    {
     "name": "stdout",
     "output_type": "stream",
     "text": [
      "Varian area: 123843.55431768115\n",
      "Standar deviasi area: 351.914129181653\n"
     ]
    }
   ],
   "source": [
    "# variance dari area menggunakan numpy dengan ddof = 1\n",
    "variance_area = np.var(area, ddof=1)\n",
    "print(\"Varian area:\", variance_area)\n",
    "\n",
    "# Menghitung standar deviasi\n",
    "standar_deviasi_area = np.sqrt(variance_area)\n",
    "\n",
    "print(\"Standar deviasi area:\", standar_deviasi_area)"
   ]
  },
  {
   "cell_type": "markdown",
   "metadata": {
    "id": "vd0o3W3_nUHe"
   },
   "source": [
    "Expected output:\n",
    "\n",
    "\n",
    "```\n",
    "123843.55431768115\n",
    "351.914129181653\n",
    "```\n",
    "\n"
   ]
  },
  {
   "cell_type": "markdown",
   "metadata": {
    "id": "G0beaH44fwkz"
   },
   "source": [
    "\n",
    "\n",
    "---\n",
    "\n",
    "\n",
    "\n",
    "---\n",
    "\n"
   ]
  },
  {
   "cell_type": "markdown",
   "metadata": {
    "id": "V1ZGmVi9feXa"
   },
   "source": [
    "# Soal 3. Menghitung Range\n",
    "\n",
    "Hitung nilai range dari area menggunakan numpy"
   ]
  },
  {
   "cell_type": "code",
   "execution_count": 44,
   "metadata": {
    "id": "_eflvygLfdbS"
   },
   "outputs": [
    {
     "name": "stdout",
     "output_type": "stream",
     "text": [
      "Range : 2357.5\n"
     ]
    }
   ],
   "source": [
    "# nilai Range\n",
    "range_area = np.ptp(area)\n",
    "print(\"Range :\", range_area)"
   ]
  },
  {
   "cell_type": "markdown",
   "metadata": {
    "id": "rBCVXNQqfpEq"
   },
   "source": [
    "Expected output:\n",
    "\n",
    "\n",
    "```\n",
    "2357.5\n",
    "```"
   ]
  },
  {
   "cell_type": "markdown",
   "metadata": {
    "id": "QxbbQiCefyvb"
   },
   "source": [
    "\n",
    "\n",
    "---\n",
    "\n",
    "\n",
    "\n",
    "---\n",
    "\n"
   ]
  },
  {
   "cell_type": "markdown",
   "metadata": {
    "id": "H5gqUHSCf2xD"
   },
   "source": [
    "# Soal 4. Menghitung Quartile\n",
    "\n",
    "Hitung Quartile 1 dan 3 dari area menggunakan numpy"
   ]
  },
  {
   "cell_type": "code",
   "execution_count": 17,
   "metadata": {
    "id": "tnhfCWvMnauS"
   },
   "outputs": [
    {
     "name": "stdout",
     "output_type": "stream",
     "text": [
      "Q1: 420.3\n",
      "Q3: 782.7\n"
     ]
    }
   ],
   "source": [
    "# Quartile 1 dan 3\n",
    "\n",
    "q1_area = np.percentile(area, 25)\n",
    "q3_area = np.percentile(area, 75)\n",
    "\n",
    "print(\"Q1:\", q1_area)\n",
    "print(\"Q3:\", q3_area)\n"
   ]
  },
  {
   "cell_type": "markdown",
   "metadata": {
    "id": "39IZU0XJgFrd"
   },
   "source": [
    "Expected output:\n",
    "\n",
    "```\n",
    "Q1 = 420.3\n",
    "\n",
    "Q3 = 782.7\n",
    "```\n"
   ]
  },
  {
   "cell_type": "markdown",
   "metadata": {
    "id": "PmyyftEPgm8X"
   },
   "source": [
    "\n",
    "\n",
    "---\n",
    "\n",
    "\n",
    "\n",
    "---\n",
    "\n"
   ]
  },
  {
   "cell_type": "markdown",
   "metadata": {
    "id": "uZ4TjoFEgotf"
   },
   "source": [
    "# Soal 5. Menghitung Covariance\n",
    "\n",
    "Hitung nilai covariance dari 'area' dan 'malignant' menggunakan numpy\n"
   ]
  },
  {
   "cell_type": "code",
   "execution_count": 20,
   "metadata": {
    "id": "Rf1DJcZ_g4Hy"
   },
   "outputs": [
    {
     "name": "stdout",
     "output_type": "stream",
     "text": [
      "[[ 1.23843554e+05 -1.20738222e+02]\n",
      " [-1.20738222e+02  2.34176589e-01]]\n"
     ]
    }
   ],
   "source": [
    "# Hiatung nilai covariance dari area dan malignant\n",
    "\n",
    "covariance_area_malignant = np.cov(area, malignant)\n",
    "\n",
    "print(covariance_area_malignant)"
   ]
  },
  {
   "cell_type": "markdown",
   "metadata": {
    "id": "33wj1HfUg6Tg"
   },
   "source": [
    "Expexted output:\n",
    "\n",
    "```\n",
    "[[ 1.23843554e+05 -1.20738222e+02]\n",
    " [-1.20738222e+02  2.34176589e-01]]\n",
    "```\n"
   ]
  },
  {
   "cell_type": "markdown",
   "metadata": {
    "id": "UHh93Ud2hUmQ"
   },
   "source": [
    "\n",
    "\n",
    "---\n",
    "\n",
    "\n",
    "\n",
    "---\n",
    "\n"
   ]
  },
  {
   "cell_type": "markdown",
   "metadata": {
    "id": "kMUm-TrZhqdI"
   },
   "source": [
    "# Statistika Inferential"
   ]
  },
  {
   "cell_type": "markdown",
   "metadata": {
    "id": "dH1_3gWfiOF9"
   },
   "source": [
    "# Soal 6. Menghintung bentuk sebaran data\n",
    "\n",
    "*   Hitung nilai skewness dari 'area' menggunakan scipy\n",
    "*   Berikan analisa bentuk sebaran data dari area\n",
    "\n"
   ]
  },
  {
   "cell_type": "code",
   "execution_count": 22,
   "metadata": {
    "id": "_SesOoaz_EiG"
   },
   "outputs": [
    {
     "name": "stdout",
     "output_type": "stream",
     "text": [
      "Skewness area: 1.6413905092044112\n"
     ]
    }
   ],
   "source": [
    "# Htung nilai skewness dari area\n",
    "skewness_area = stats.skew(area)\n",
    "\n",
    "print(\"Skewness area:\", skewness_area)"
   ]
  },
  {
   "cell_type": "markdown",
   "metadata": {
    "id": "4jTMC_ydn0l0"
   },
   "source": [
    "Expected output:\n",
    "\n",
    "\n",
    "```\n",
    "1.6457321756240424\n",
    "```\n",
    "\n"
   ]
  },
  {
   "cell_type": "markdown",
   "metadata": {
    "id": "FktxnxPvioWl"
   },
   "source": [
    "Analisis bentuk sebaran data:\n",
    "\n"
   ]
  },
  {
   "cell_type": "markdown",
   "metadata": {
    "id": "uHZKHWWOiuFv"
   },
   "source": [
    "\n",
    "Distribusi area memiliki skewness positif sebesar 1.6413905092044112, menunjukkan kecenderungan positively skewed (condong ke kanan), dengan lebih banyak nilai yang besar daripada yang kecil."
   ]
  },
  {
   "cell_type": "markdown",
   "metadata": {},
   "source": [
    "Silahkan untuk latihan Teman\" bisa mengolah dataset  yang saya berikan dan melakukan perhitungan sama dengan menggunakan metode diatas"
   ]
  },
  {
   "cell_type": "code",
   "execution_count": 32,
   "metadata": {},
   "outputs": [
    {
     "data": {
      "text/html": [
       "<div>\n",
       "<style scoped>\n",
       "    .dataframe tbody tr th:only-of-type {\n",
       "        vertical-align: middle;\n",
       "    }\n",
       "\n",
       "    .dataframe tbody tr th {\n",
       "        vertical-align: top;\n",
       "    }\n",
       "\n",
       "    .dataframe thead th {\n",
       "        text-align: right;\n",
       "    }\n",
       "</style>\n",
       "<table border=\"1\" class=\"dataframe\">\n",
       "  <thead>\n",
       "    <tr style=\"text-align: right;\">\n",
       "      <th></th>\n",
       "      <th>Q1</th>\n",
       "      <th>Q2</th>\n",
       "      <th>Q3</th>\n",
       "      <th>Q4</th>\n",
       "      <th>Q5</th>\n",
       "      <th>Q6</th>\n",
       "      <th>Q7</th>\n",
       "      <th>Q8</th>\n",
       "      <th>Q9</th>\n",
       "      <th>Q10</th>\n",
       "    </tr>\n",
       "  </thead>\n",
       "  <tbody>\n",
       "    <tr>\n",
       "      <th>count</th>\n",
       "      <td>32.00000</td>\n",
       "      <td>32.000000</td>\n",
       "      <td>32.000000</td>\n",
       "      <td>32.000000</td>\n",
       "      <td>32.000000</td>\n",
       "      <td>32.000000</td>\n",
       "      <td>32.000000</td>\n",
       "      <td>32.000000</td>\n",
       "      <td>32.000000</td>\n",
       "      <td>32.000000</td>\n",
       "    </tr>\n",
       "    <tr>\n",
       "      <th>mean</th>\n",
       "      <td>3.53125</td>\n",
       "      <td>3.375000</td>\n",
       "      <td>3.375000</td>\n",
       "      <td>3.218750</td>\n",
       "      <td>3.312500</td>\n",
       "      <td>3.656250</td>\n",
       "      <td>4.187500</td>\n",
       "      <td>4.375000</td>\n",
       "      <td>4.218750</td>\n",
       "      <td>3.937500</td>\n",
       "    </tr>\n",
       "    <tr>\n",
       "      <th>std</th>\n",
       "      <td>0.87931</td>\n",
       "      <td>0.659912</td>\n",
       "      <td>0.707107</td>\n",
       "      <td>0.552669</td>\n",
       "      <td>0.997982</td>\n",
       "      <td>0.970845</td>\n",
       "      <td>0.737804</td>\n",
       "      <td>0.751343</td>\n",
       "      <td>0.706394</td>\n",
       "      <td>0.669015</td>\n",
       "    </tr>\n",
       "    <tr>\n",
       "      <th>min</th>\n",
       "      <td>2.00000</td>\n",
       "      <td>2.000000</td>\n",
       "      <td>2.000000</td>\n",
       "      <td>2.000000</td>\n",
       "      <td>1.000000</td>\n",
       "      <td>1.000000</td>\n",
       "      <td>3.000000</td>\n",
       "      <td>3.000000</td>\n",
       "      <td>3.000000</td>\n",
       "      <td>2.000000</td>\n",
       "    </tr>\n",
       "    <tr>\n",
       "      <th>25%</th>\n",
       "      <td>3.00000</td>\n",
       "      <td>3.000000</td>\n",
       "      <td>3.000000</td>\n",
       "      <td>3.000000</td>\n",
       "      <td>3.000000</td>\n",
       "      <td>3.750000</td>\n",
       "      <td>4.000000</td>\n",
       "      <td>4.000000</td>\n",
       "      <td>4.000000</td>\n",
       "      <td>4.000000</td>\n",
       "    </tr>\n",
       "    <tr>\n",
       "      <th>50%</th>\n",
       "      <td>4.00000</td>\n",
       "      <td>3.000000</td>\n",
       "      <td>3.000000</td>\n",
       "      <td>3.000000</td>\n",
       "      <td>3.000000</td>\n",
       "      <td>4.000000</td>\n",
       "      <td>4.000000</td>\n",
       "      <td>5.000000</td>\n",
       "      <td>4.000000</td>\n",
       "      <td>4.000000</td>\n",
       "    </tr>\n",
       "    <tr>\n",
       "      <th>75%</th>\n",
       "      <td>4.00000</td>\n",
       "      <td>4.000000</td>\n",
       "      <td>4.000000</td>\n",
       "      <td>4.000000</td>\n",
       "      <td>4.000000</td>\n",
       "      <td>4.000000</td>\n",
       "      <td>5.000000</td>\n",
       "      <td>5.000000</td>\n",
       "      <td>5.000000</td>\n",
       "      <td>4.000000</td>\n",
       "    </tr>\n",
       "    <tr>\n",
       "      <th>max</th>\n",
       "      <td>5.00000</td>\n",
       "      <td>5.000000</td>\n",
       "      <td>5.000000</td>\n",
       "      <td>4.000000</td>\n",
       "      <td>5.000000</td>\n",
       "      <td>5.000000</td>\n",
       "      <td>5.000000</td>\n",
       "      <td>5.000000</td>\n",
       "      <td>5.000000</td>\n",
       "      <td>5.000000</td>\n",
       "    </tr>\n",
       "  </tbody>\n",
       "</table>\n",
       "</div>"
      ],
      "text/plain": [
       "             Q1         Q2         Q3         Q4         Q5         Q6  \\\n",
       "count  32.00000  32.000000  32.000000  32.000000  32.000000  32.000000   \n",
       "mean    3.53125   3.375000   3.375000   3.218750   3.312500   3.656250   \n",
       "std     0.87931   0.659912   0.707107   0.552669   0.997982   0.970845   \n",
       "min     2.00000   2.000000   2.000000   2.000000   1.000000   1.000000   \n",
       "25%     3.00000   3.000000   3.000000   3.000000   3.000000   3.750000   \n",
       "50%     4.00000   3.000000   3.000000   3.000000   3.000000   4.000000   \n",
       "75%     4.00000   4.000000   4.000000   4.000000   4.000000   4.000000   \n",
       "max     5.00000   5.000000   5.000000   4.000000   5.000000   5.000000   \n",
       "\n",
       "              Q7         Q8         Q9        Q10  \n",
       "count  32.000000  32.000000  32.000000  32.000000  \n",
       "mean    4.187500   4.375000   4.218750   3.937500  \n",
       "std     0.737804   0.751343   0.706394   0.669015  \n",
       "min     3.000000   3.000000   3.000000   2.000000  \n",
       "25%     4.000000   4.000000   4.000000   4.000000  \n",
       "50%     4.000000   5.000000   4.000000   4.000000  \n",
       "75%     5.000000   5.000000   5.000000   4.000000  \n",
       "max     5.000000   5.000000   5.000000   5.000000  "
      ]
     },
     "execution_count": 32,
     "metadata": {},
     "output_type": "execute_result"
    }
   ],
   "source": [
    "import pandas as pd\n",
    "\n",
    "dataset = pd.read_excel(\"Nilai_Indeks_Toleransi.xlsx\", index_col='Dusun')\n",
    "dataset.describe()"
   ]
  },
  {
   "cell_type": "code",
   "execution_count": 50,
   "metadata": {},
   "outputs": [
    {
     "name": "stdout",
     "output_type": "stream",
     "text": [
      "Kolom: Q1\n",
      "Mean: 3.53125\n",
      "Median: 4.0\n",
      "\n",
      "Kolom: Q2\n",
      "Mean: 3.375\n",
      "Median: 3.0\n",
      "\n",
      "Kolom: Q3\n",
      "Mean: 3.375\n",
      "Median: 3.0\n",
      "\n",
      "Kolom: Q4\n",
      "Mean: 3.21875\n",
      "Median: 3.0\n",
      "\n",
      "Kolom: Q5\n",
      "Mean: 3.3125\n",
      "Median: 3.0\n",
      "\n",
      "Kolom: Q6\n",
      "Mean: 3.65625\n",
      "Median: 4.0\n",
      "\n",
      "Kolom: Q7\n",
      "Mean: 4.1875\n",
      "Median: 4.0\n",
      "\n",
      "Kolom: Q8\n",
      "Mean: 4.375\n",
      "Median: 5.0\n",
      "\n",
      "Kolom: Q9\n",
      "Mean: 4.21875\n",
      "Median: 4.0\n",
      "\n",
      "Kolom: Q10\n",
      "Mean: 3.9375\n",
      "Median: 4.0\n",
      "\n"
     ]
    }
   ],
   "source": [
    "for kolom in dataset.columns:\n",
    "    print(f\"Kolom: {kolom}\")\n",
    "    print(f\"Mean: {dataset[kolom].mean()}\")\n",
    "    print(f\"Median: {dataset[kolom].median()}\")\n",
    "    print()"
   ]
  },
  {
   "cell_type": "code",
   "execution_count": 40,
   "metadata": {},
   "outputs": [
    {
     "name": "stdout",
     "output_type": "stream",
     "text": [
      "Kolom: Q1\n",
      "Range: 3\n",
      "Q1: 3.0\n",
      "Q3: 4.0\n",
      "Standar Deviasi: 0.8654614015078893\n",
      "\n",
      "Kolom: Q2\n",
      "Range: 3\n",
      "Q1: 3.0\n",
      "Q3: 4.0\n",
      "Standar Deviasi: 0.649519052838329\n",
      "\n",
      "Kolom: Q3\n",
      "Range: 3\n",
      "Q1: 3.0\n",
      "Q3: 4.0\n",
      "Standar Deviasi: 0.6959705453537527\n",
      "\n",
      "Kolom: Q4\n",
      "Range: 2\n",
      "Q1: 3.0\n",
      "Q3: 4.0\n",
      "Standar Deviasi: 0.5439654745477879\n",
      "\n",
      "Kolom: Q5\n",
      "Range: 4\n",
      "Q1: 3.0\n",
      "Q3: 4.0\n",
      "Standar Deviasi: 0.982264602843857\n",
      "\n",
      "Kolom: Q6\n",
      "Range: 4\n",
      "Q1: 3.75\n",
      "Q3: 4.0\n",
      "Standar Deviasi: 0.955555303213791\n",
      "\n",
      "Kolom: Q7\n",
      "Range: 2\n",
      "Q1: 4.0\n",
      "Q3: 5.0\n",
      "Standar Deviasi: 0.7261843774138906\n",
      "\n",
      "Kolom: Q8\n",
      "Range: 2\n",
      "Q1: 4.0\n",
      "Q3: 5.0\n",
      "Standar Deviasi: 0.739509972887452\n",
      "\n",
      "Kolom: Q9\n",
      "Range: 2\n",
      "Q1: 4.0\n",
      "Q3: 5.0\n",
      "Standar Deviasi: 0.6952686081652184\n",
      "\n",
      "Kolom: Q10\n",
      "Range: 3\n",
      "Q1: 4.0\n",
      "Q3: 4.0\n",
      "Standar Deviasi: 0.6584783595532961\n",
      "\n"
     ]
    }
   ],
   "source": [
    "# Hitung range, quartil 1 dan 3, dan standar deviasi\n",
    "for kolom in dataset.columns:\n",
    "    print(f\"Kolom: {kolom}\")\n",
    "    print(f\"Range: {np.ptp(dataset[kolom])}\")\n",
    "    print(f\"Q1: {np.percentile(dataset[kolom], 25)}\")\n",
    "    print(f\"Q3: {np.percentile(dataset[kolom], 75)}\")\n",
    "    print(f\"Standar Deviasi: {np.std(dataset[kolom])}\")\n",
    "    print()"
   ]
  },
  {
   "cell_type": "code",
   "execution_count": 37,
   "metadata": {},
   "outputs": [
    {
     "name": "stdout",
     "output_type": "stream",
     "text": [
      "Kolom: Q1\n",
      "Skewness: -0.09631913715796918\n",
      "Sebaran data miring ke kiri.\n",
      "\n",
      "Kolom: Q2\n",
      "Skewness: 0.8125670455261399\n",
      "Sebaran data miring ke kanan.\n",
      "\n",
      "Kolom: Q3\n",
      "Skewness: 0.45191011477704657\n",
      "Sebaran data miring ke kanan.\n",
      "\n",
      "Kolom: Q4\n",
      "Skewness: 0.0875947409917818\n",
      "Sebaran data miring ke kanan.\n",
      "\n",
      "Kolom: Q5\n",
      "Skewness: -0.26121163953742454\n",
      "Sebaran data miring ke kiri.\n",
      "\n",
      "Kolom: Q6\n",
      "Skewness: -1.4171981730329426\n",
      "Sebaran data miring ke kiri.\n",
      "\n",
      "Kolom: Q7\n",
      "Skewness: -0.3021883302226034\n",
      "Sebaran data miring ke kiri.\n",
      "\n",
      "Kolom: Q8\n",
      "Skewness: -0.7244179326244428\n",
      "Sebaran data miring ke kiri.\n",
      "\n",
      "Kolom: Q9\n",
      "Skewness: -0.3241607419520235\n",
      "Sebaran data miring ke kiri.\n",
      "\n",
      "Kolom: Q10\n",
      "Skewness: -0.5900171324947966\n",
      "Sebaran data miring ke kiri.\n",
      "\n"
     ]
    }
   ],
   "source": [
    "# Hitung skewness dan analisis bentuk sebaran\n",
    "for kolom in dataset.columns:\n",
    "    print(f\"Kolom: {kolom}\")\n",
    "    skewness = stats.skew(dataset[kolom])\n",
    "    print(f\"Skewness: {skewness}\")\n",
    "    if skewness > 0:\n",
    "        print(\"Sebaran data miring ke kanan.\")\n",
    "    elif skewness < 0:\n",
    "        print(\"Sebaran data miring ke kiri.\")\n",
    "    else:\n",
    "        print(\"Sebaran data simetris.\")\n",
    "    print()"
   ]
  },
  {
   "cell_type": "code",
   "execution_count": 48,
   "metadata": {},
   "outputs": [
    {
     "name": "stdout",
     "output_type": "stream",
     "text": [
      "Kovariansi Q1 dan Q2: 0.11693548387096774\n"
     ]
    }
   ],
   "source": [
    "kovariasi_q1_q2 = np.cov(dataset[\"Q1\"], dataset[\"Q2\"])[0, 1]\n",
    "print(f\"Kovariansi Q1 dan Q2: {kovariasi_q1_q2}\")"
   ]
  }
 ],
 "metadata": {
  "colab": {
   "collapsed_sections": [],
   "name": "Tugas Hari 5.ipynb",
   "provenance": []
  },
  "kernelspec": {
   "display_name": "Python 3 (ipykernel)",
   "language": "python",
   "name": "python3"
  },
  "language_info": {
   "codemirror_mode": {
    "name": "ipython",
    "version": 3
   },
   "file_extension": ".py",
   "mimetype": "text/x-python",
   "name": "python",
   "nbconvert_exporter": "python",
   "pygments_lexer": "ipython3",
   "version": "3.12.2"
  }
 },
 "nbformat": 4,
 "nbformat_minor": 1
}
